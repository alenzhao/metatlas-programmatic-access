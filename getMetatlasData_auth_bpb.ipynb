{
 "metadata": {
  "name": "",
  "signature": "sha256:edb96fe578cce6ac28c0fa7351dc73f40a06ce27d35c0fe63f8e3da9dd1ecf5f"
 },
 "nbformat": 3,
 "nbformat_minor": 0,
 "worksheets": [
  {
   "cells": [
    {
     "cell_type": "markdown",
     "metadata": {},
     "source": [
      "This notbook requests images for a given m/z range and shows a flux image"
     ]
    },
    {
     "cell_type": "code",
     "collapsed": false,
     "input": [
      "%pylab inline\n",
      "%config InlineBackend.figure_format = 'svg' \n",
      "from pylab import *\n",
      "import matplotlib.pyplot as plt\n",
      "from mpl_toolkits.axes_grid1 import ImageGrid\n",
      "import time\n",
      "import sys\n",
      "import requests, json\n",
      "import numpy as np\n"
     ],
     "language": "python",
     "metadata": {},
     "outputs": []
    },
    {
     "cell_type": "markdown",
     "metadata": {},
     "source": [
      "Run the next block once to setup the csrf token for subsequent calls to the server."
     ]
    },
    {
     "cell_type": "code",
     "collapsed": false,
     "input": [
      "authURL = 'https://metatlas.nersc.gov/client/login/'\n",
      "userID = 'bpb'\n",
      "userPassword = ''\n",
      "\n",
      "client = requests.Session()\n",
      "# Retrieve the CSRF token first\n",
      "client.get(authURL)  # sets cookie\n",
      "csrftoken = client.cookies['csrftoken']\n",
      "login_data = dict(username=userID, password=userPassword, csrfmiddlewaretoken=csrftoken, next='/')\n",
      "r = client.post(authURL, data=login_data, headers=dict(Referer=authURL))\n",
      "print login_data['csrfmiddlewaretoken']"
     ],
     "language": "python",
     "metadata": {},
     "outputs": []
    },
    {
     "cell_type": "code",
     "collapsed": false,
     "input": [
      "# get an experiment ID\n",
      "url = 'https://metatlas.nersc.gov/api/experiment'\n",
      "r = client.get(url,data=login_data)\n",
      "experiments = json.loads(r.content)\n",
      "print experiments\n",
      "myExperimentID = filter( lambda x: x[u'name']=='Soil_Particle_Metabolite_Interactions', experiments )[0][u'_id']\n",
      "# myID = filter( lambda x: x[u'name']=='20140707_SJ_WoM_32bitConvert', experiments )[0][u'_id']\n",
      "\n",
      "print myExperimentID\n",
      "# sites = dict( (d['site'],d) for d in data )\n",
      "# ids = dict( (d['id'],d] for d in data )\n",
      "# any(d[u'name'] == 'Soil_Particle' for d in experiments)\n",
      "# myID = experiments[3][u'_id']\n",
      "# print myID"
     ],
     "language": "python",
     "metadata": {},
     "outputs": []
    },
    {
     "cell_type": "code",
     "collapsed": false,
     "input": [
      "url = 'https://metatlas.nersc.gov/api/experiment/%s' % myExperimentID\n",
      "r = client.get(url,data=login_data)\n",
      "files = json.loads(r.content)\n",
      "print files\n",
      "myFilename = '/global/project/projectdirs/metatlas/original_data/bpb/Soil_Particle_Metabolite_Interactions/140808_1_RCH2_pos.mzML'\n",
      "# myFilename = '/global/project/projectdirs/metatlas/original_data/bpb/20140707_SJ_WoM_32bitConvert/140627 R2A Rep1 Isolate_10.mzML'\n",
      "myMatch = filter( lambda x: x[u'in_file']==myFilename, files[u'runs'] )[0][u'_id']\n",
      "# myMatch = filter( lambda x: x[u'in_file']==myFilename, files[u'runs'] )[0][u'_id']\n",
      "myArray = myMatch[u'array_name']\n",
      "myRunID = myMatch[u'file_id']\n",
      "print myRunID\n",
      "# print files\n",
      "# print files.keys()\n",
      "# print files[u'runs'][-1]\n",
      "# myArray = files[u'runs'][-1][u'_id'][u'array_name']\n",
      "# myFid = files[u'runs'][-1][u'_id'][u'file_id']\n",
      "# print myArray\n",
      "# print myFid\n",
      "# print experiments[3]\n",
      "# myID = experiments[3][u'_id']\n",
      "# print myID"
     ],
     "language": "python",
     "metadata": {},
     "outputs": []
    },
    {
     "cell_type": "markdown",
     "metadata": {},
     "source": [
      "Run the next block to get a chromatogram"
     ]
    },
    {
     "cell_type": "code",
     "collapsed": false,
     "input": [
      "payload = {'L':1,'P':1,'arrayname':myArray,'fileid':myRunID,\n",
      "           'max_mz':136,'min_mz':130,'max_rt':10,'min_rt':5,\n",
      "           'mz_steps':1000,'rt_steps':1000,'queryType':'HeatMapRTMZ'}\n",
      "url = 'https://metatlas.nersc.gov/api/run/'\n",
      "r = client.get(url,params=payload,data=login_data)\n",
      "data = np.asarray(json.loads(r.content))\n"
     ],
     "language": "python",
     "metadata": {},
     "outputs": []
    },
    {
     "cell_type": "code",
     "collapsed": false,
     "input": [
      "fig, ax = subplots(figsize=(12, 9))\n",
      "# ax.imshow(np.log10(data[0:900,280:900]+1), interpolation='nearest', aspect='auto',cmap='cubehelix')\n",
      "ax.imshow((data[0:450,280:890]+1)**0.1, interpolation='nearest', aspect='auto',cmap='cubehelix')"
     ],
     "language": "python",
     "metadata": {},
     "outputs": []
    },
    {
     "cell_type": "code",
     "collapsed": false,
     "input": [
      "payload = {'L':1,'P':1,'arrayname':myArray,'fileid':myRunID,\n",
      "           'max_mz':132.10253650938,'min_mz':132.10121549062,                    \n",
      "           'nsteps':9634,'queryType':'XICofFile'}\n",
      "url = 'https://metatlas.nersc.gov/api/run'\n",
      "r = client.get(url,params=payload,data=login_data)\n",
      "data = np.asarray(json.loads(r.content))\n",
      "print data.shape"
     ],
     "language": "python",
     "metadata": {},
     "outputs": []
    },
    {
     "cell_type": "markdown",
     "metadata": {},
     "source": [
      "Get the TIC for a file!!!!"
     ]
    },
    {
     "cell_type": "code",
     "collapsed": false,
     "input": [
      "payload = {'L':1,'P':1,'arrayname':myArray,'fileid':myRunID,\n",
      "           'max_mz':10000,'min_mz':1,\n",
      "           'nsteps':20000,'queryType':'XICofFile'}\n",
      "url = 'https://metatlas.nersc.gov/api/run'\n",
      "r = client.get(url,params=payload,data=login_data)\n",
      "data = np.asarray(json.loads(r.content))\n"
     ],
     "language": "python",
     "metadata": {},
     "outputs": []
    },
    {
     "cell_type": "code",
     "collapsed": false,
     "input": [
      "print data"
     ],
     "language": "python",
     "metadata": {},
     "outputs": []
    },
    {
     "cell_type": "code",
     "collapsed": false,
     "input": [
      "print data.shape\n",
      "print len(np.unique(data[:,0]))"
     ],
     "language": "python",
     "metadata": {},
     "outputs": []
    },
    {
     "cell_type": "code",
     "collapsed": false,
     "input": [
      "# idx = np.argwhere( data[:,0] > 10  and data[:,0] < 20 )\n",
      "idx = np.argwhere( np.abs( data[:,0] - 13.25 ) < .5 )\n"
     ],
     "language": "python",
     "metadata": {},
     "outputs": []
    },
    {
     "cell_type": "code",
     "collapsed": false,
     "input": [
      "plot(data[:,0],data[:,1])\n",
      "# xlim([7,10])\n",
      "# print sum(data[idx,1])"
     ],
     "language": "python",
     "metadata": {},
     "outputs": []
    },
    {
     "cell_type": "code",
     "collapsed": false,
     "input": [
      "# Get a list of all method specific metabolite atlases in the system\n",
      "# GET /api/dict/\n",
      "url = 'https://metatlas.nersc.gov/api/dict/'\n",
      "r = client.get(url)\n",
      "print(r.text)"
     ],
     "language": "python",
     "metadata": {},
     "outputs": []
    },
    {
     "cell_type": "code",
     "collapsed": false,
     "input": [
      "# Get the entries for a specific dictionary\n",
      "# GET /api/dict/<dict_id>/\n",
      "dictId = '54109ee67626405078e50035'\n",
      "url = 'https://metatlas.nersc.gov/api/dict/%s/' % dictId\n",
      "r = client.get(url)\n",
      "print(r.text)"
     ],
     "language": "python",
     "metadata": {},
     "outputs": []
    },
    {
     "cell_type": "code",
     "collapsed": false,
     "input": [
      "# plotRun = myRunID\n",
      "plotRun = 9212\n",
      "# Make a plot For an entry in a dictionary\n",
      "dictId = '54109ee67626405078e50035'\n",
      "url = 'https://metatlas.nersc.gov/api/dict/%s/' % dictId\n",
      "r = client.get(url)\n",
      "ma = json.loads(r.text)\n",
      "print ma[u'compounds'][1]\n",
      "mz = ma[u'compounds'][1][u'mz']\n",
      "mzMin = mz - mz*ma[u'compounds'][1][u'mz_threshold']/1e6\n",
      "mzMax = mz + mz*ma[u'compounds'][1][u'mz_threshold']/1e6\n",
      "rtMin = ma[u'compounds'][1][u'rt_min']\n",
      "rtMax = ma[u'compounds'][1][u'rt_max']\n",
      "rtPeak = ma[u'compounds'][1][u'rt_peak']\n",
      "payload = {'L':1,'P':1,'arrayname':myArray,'fileid':plotRun,\n",
      "           'max_mz':mzMax,'min_mz':mzMin,\n",
      "           'nsteps':10000,'queryType':'XICofFile'}\n",
      "url = 'https://metatlas.nersc.gov/api/run'\n",
      "r = client.get(url,params=payload,data=login_data)\n",
      "data = np.asarray(json.loads(r.content))\n",
      "plot(data[:,0],data[:,1])\n",
      "xlim([rtMin-0.5,rtMax+0.5])\n",
      "axvspan(rtMin, rtMax, facecolor='g', alpha=0.5)\n",
      "axvline(x=rtPeak,linewidth=4, color='r')\n",
      "xlabel('Time (min)')\n",
      "ylabel('Intensity (au)')\n"
     ],
     "language": "python",
     "metadata": {},
     "outputs": []
    },
    {
     "cell_type": "code",
     "collapsed": false,
     "input": [
      "temp = np.asarray([1,2,3,4,5,6,7,8])\n",
      "a = np.zeros(temp.shape)\n",
      "# idx = abs(temp-5)<2\n",
      "# print idx\n",
      "# temp(idx=='true')\n",
      "# print idx\n",
      "# print a(idx)\n",
      "a[abs(temp-5)<2]=1\n",
      "print a"
     ],
     "language": "python",
     "metadata": {},
     "outputs": []
    },
    {
     "cell_type": "code",
     "collapsed": false,
     "input": [
      "from scipy.optimize import leastsq\n",
      "# lambda x: \u2018big\u2019 if x > 100 else \u2018small\u2019\n",
      "# fitfunc  = lambda p, x: p[0]*exp(-0.5*((x-p[1])/p[2])**2)\n",
      "# fitfunc  = lambda p, x: p[0]*exp(-0.5*((x-p[1])/p[2])**2) if x>rtPeak else p[0]*exp(-0.5*((x-p[1])/p[3])**2)\n",
      "\n",
      "def fitfunc(p,x):\n",
      "    a = np.zeros(x.shape)\n",
      "    a[x>=p[1]]=p[0]*exp(-0.5*((x[x>=p[1]]-p[1])/p[2])**2)\n",
      "    a[x<p[1]]=p[0]*exp(-0.5*((x[x<p[1]]-p[1])/p[3])**2)\n",
      "    return a\n",
      "\n",
      "def errfunc(p,x,y):\n",
      "    return y-fitfunc(p,x)\n",
      "# errfunc  = lambda p, x, y: y - fitfunc(p, x)\n",
      "\n",
      "plotRun = myRunID\n",
      "# plotRun = 9212\n",
      "# Make a plot For an entry in a dictionary\n",
      "dictId = '54109ee67626405078e50035'\n",
      "url = 'https://metatlas.nersc.gov/api/dict/%s/' % dictId\n",
      "r = client.get(url)\n",
      "ma = json.loads(r.text)\n",
      "mz = ma[u'compounds'][1][u'mz']\n",
      "mzMin = mz - mz*ma[u'compounds'][1][u'mz_threshold']/1e6\n",
      "mzMax = mz + mz*ma[u'compounds'][1][u'mz_threshold']/1e6\n",
      "rtMin = ma[u'compounds'][1][u'rt_min']\n",
      "rtMax = ma[u'compounds'][1][u'rt_max']\n",
      "rtPeak = ma[u'compounds'][1][u'rt_peak']\n",
      "payload = {'L':1,'P':1,'arrayname':myArray,'fileid':plotRun,\n",
      "           'max_mz':mzMax,'min_mz':mzMin,\n",
      "           'nsteps':10000,'queryType':'XICofFile'}\n",
      "url = 'https://metatlas.nersc.gov/api/run'\n",
      "r = client.get(url,params=payload,data=login_data)\n",
      "data = np.asarray(json.loads(r.content))\n",
      "plot(data[:,0],data[:,1])\n",
      "xlim([rtMin-0.5,rtMax+0.5])\n",
      "axvspan(rtMin, rtMax, facecolor='g', alpha=0.5)\n",
      "# axvline(x=rtPeak,linewidth=4, color='r')\n",
      "xlabel('Time (min)')\n",
      "ylabel('Intensity (au)')\n",
      "\n",
      "xdata    = data[abs(data[:,0]-rtPeak)<0.1,0]\n",
      "ydata    = data[abs(data[:,0]-rtPeak)<0.1,1]\n",
      "\n",
      "init  = [10000.0, rtPeak, 0.1,0.1]\n",
      "\n",
      "out   = leastsq( errfunc, init, args=(xdata, ydata))\n",
      "c = out[0]\n",
      "\n",
      "plot(data[:,0], fitfunc(c, data[:,0]),'k-',linewidth=2.0)\n",
      "\n",
      "axvline(x=c[1],linewidth=4, color='k')\n",
      "\n",
      "print c\n",
      "print np.sum(fitfunc(c, data[:,0]))"
     ],
     "language": "python",
     "metadata": {},
     "outputs": []
    },
    {
     "cell_type": "code",
     "collapsed": false,
     "input": [
      "# Create a new entry for a dictionary\n",
      "# POST /api/dict/<dict_id>/\n",
      "payload = [{\"adducts\":\"H+\",\"formula\":\"C6H13NO2\",\"name\":\"Isoleucine\",\"rt_max\":8.6,\"rt_min\":3,\"rt_peak\":7.5,\"mz\":132.101876,\"mz_threshold\":5,\"neutral_mass\":131.0946,\"pubchem_id\":0}]\n",
      "url = 'https://metatlas.nersc.gov/api/dict/%s/' % dictId\n",
      "r = client.post(url, data=json.dumps(payload))\n",
      "print(r.text)\n"
     ],
     "language": "python",
     "metadata": {},
     "outputs": []
    },
    {
     "cell_type": "code",
     "collapsed": false,
     "input": [
      "# Edit a compound in a dictionary\n",
      "# PATCH /api/compound/<compound_id>/\n",
      "\n",
      "compoundId = '5410a27f7626405077ecc613'\n",
      "# payload = {\"pubchem_id\":10}\n",
      "# payload = {\"rt_min\":7.75}\n",
      "payload = {\"rt_peak\": 7.925}\n",
      "# payload = {\"rt_max\": 8.15}\n",
      "url = 'https://metatlas.nersc.gov/api/compound/%s/' % compoundId\n",
      "r = client.patch(url, data=json.dumps(payload))\n",
      "print(r.text)\n"
     ],
     "language": "python",
     "metadata": {},
     "outputs": []
    },
    {
     "cell_type": "code",
     "collapsed": false,
     "input": [
      "# Gets all the compound dictionaries associated with the experiement\n",
      "# GET\t/api/experiment/<experiment_id>/dict/\t\t\n",
      "url = 'https://metatlas.nersc.gov/api/experiment/%s/dict/' % myExperimentID\n",
      "r = client.get(url)\n",
      "print r.text"
     ],
     "language": "python",
     "metadata": {},
     "outputs": []
    },
    {
     "cell_type": "code",
     "collapsed": false,
     "input": [
      "# Adds the specified compound dictionary to the experiment\n",
      "# POST\t/api/experiment/<experiment_id>/dict/\t{ \"dict_id\": <dict_id_to_be_added> } JSON\n",
      "url = 'https://metatlas.nersc.gov/api/experiment/%s/dict/' % myExperimentID\n",
      "payload = {\"dict_id\":dictId}\n",
      "r = client.post(url, data=json.dumps(payload))\n",
      "print(r.text)"
     ],
     "language": "python",
     "metadata": {},
     "outputs": []
    },
    {
     "cell_type": "code",
     "collapsed": false,
     "input": [
      "# Gets the dictionaries associated with the run\n",
      "# GET\t/api/metadata/<array_name>/<file_id>/dict/\n",
      "url = 'https://metatlas.nersc.gov/api/metadata/%s/%s/dict/' % ( myArray, myRunID )\n",
      "print url\n",
      "r = client.get(url)\n",
      "print r.text"
     ],
     "language": "python",
     "metadata": {},
     "outputs": []
    },
    {
     "cell_type": "code",
     "collapsed": false,
     "input": [
      "# /api/metadata/<array_name>/<file_id>/dict/<dict_index>/\n",
      "# Gets details (incl. compounds) about a specified dictionary\n",
      "url = 'https://metatlas.nersc.gov/api/metadata/%s/%s/dict/0' % ( myArray, myRunID )\n",
      "print url\n",
      "r = client.get(url)\n",
      "print r.text"
     ],
     "language": "python",
     "metadata": {},
     "outputs": []
    },
    {
     "cell_type": "code",
     "collapsed": false,
     "input": [
      "# /api/metadata/<array_name>/<file_id>/dict/<dict_index>/<compound_id>/\t{ \"<updated_val_name>\": <updated_val> ... } JSON\n",
      "# Updates the run level compound with the values specified"
     ],
     "language": "python",
     "metadata": {},
     "outputs": []
    },
    {
     "cell_type": "code",
     "collapsed": false,
     "input": [
      "# PUT /api/metadata/<array_name>/<file_id>/dict/<dict_index>/<compound_id>/reset/\n",
      "# Reverts the compound's fields to those of the parent (experiment level) compound dictionary"
     ],
     "language": "python",
     "metadata": {},
     "outputs": []
    },
    {
     "cell_type": "code",
     "collapsed": false,
     "input": [
      "# DELETE /api/metadata/<array_name>/<file_id>/dict/<dict_index>/<compound_id>/\n",
      "# Removes the compound from the run level compound dictionary"
     ],
     "language": "python",
     "metadata": {},
     "outputs": []
    },
    {
     "cell_type": "code",
     "collapsed": false,
     "input": [
      "# export the peak areas for a file using the dictionary\n",
      "# /api/metadata/<array_name>/<file_id>/export/\n",
      "url = 'https://metatlas.nersc.gov/api/metadata/%s/%s/export/0' % ( myArray, myRunID )\n",
      "print url\n",
      "r = client.get(url)\n",
      "print r.text"
     ],
     "language": "python",
     "metadata": {},
     "outputs": []
    }
   ],
   "metadata": {}
  }
 ]
}
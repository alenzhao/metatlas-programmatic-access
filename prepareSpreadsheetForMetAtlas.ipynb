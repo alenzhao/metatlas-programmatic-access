{
 "metadata": {
  "name": "",
  "signature": "sha256:db0b18e9f1f7f509f31398f72413622528364ad1f9273f4a85c7014bcaf02898"
 },
 "nbformat": 3,
 "nbformat_minor": 0,
 "worksheets": [
  {
   "cells": [
    {
     "cell_type": "code",
     "collapsed": false,
     "input": [
      "import csv\n",
      "filename = '140822_RCH2_annotated_bpb.txt'\n",
      "with open(filename,'rU') as file_object:\n",
      "    d = list(csv.DictReader(file_object, dialect='excel-tab'))"
     ],
     "language": "python",
     "metadata": {},
     "outputs": [],
     "prompt_number": 5
    },
    {
     "cell_type": "code",
     "collapsed": false,
     "input": [
      "print d[0]"
     ],
     "language": "python",
     "metadata": {},
     "outputs": [
      {
       "output_type": "stream",
       "stream": "stdout",
       "text": [
        "{'adduct': 'H+', 'name': 'Crotonic acid', 'rt_max': '12.6', 'mz_threshold': '5', 'pubchem_id': '0', 'rt_min': '12.2', 'formula': 'C4H6O2', 'rt_peak': '12.4', 'neutral_mass': '86.0368', 'mz': '87.0443'}\n"
       ]
      }
     ],
     "prompt_number": 7
    }
   ],
   "metadata": {}
  }
 ]
}